{
 "cells": [
  {
   "cell_type": "code",
   "execution_count": 1,
   "id": "77e59f62",
   "metadata": {},
   "outputs": [],
   "source": [
    "# Import all libraries\n",
    "\n",
    "import netCDF4 as nc\n",
    "import os\n",
    "from netCDF4 import Dataset\n",
    "import numpy as np\n",
    "from pyschism.mesh import Hgrid\n",
    "import geopandas as gpd\n",
    "import pandas as pd\n",
    "import matplotlib.pyplot as plt\n",
    "from pyproj import Transformer\n",
    "from shapely.geometry import Polygon"
   ]
  },
  {
   "cell_type": "code",
   "execution_count": 2,
   "id": "6a5b1c26",
   "metadata": {},
   "outputs": [],
   "source": [
    "# set the working directory\n",
    "os.getcwd()\n",
    "os.chdir('..')\n",
    "workdir = os.getcwd()\n",
    "\n",
    "# read the hgrid file\n",
    "hgrid3_file = os.path.join(workdir, 'data/hgrid.gr3')\n",
    "# hgridll_file = os.path.join(workdir, 'data/hgrid.ll')\n",
    "# hgridwwm_file = os.path.join(workdir, 'data/hgrid_WWM.gr3')\n",
    "\n",
    "# Read the nc files from different time (double check if the number here means different time step)\n",
    "ncfile_marshflag_1 = os.path.join(workdir,'schout_1_marsh_flag.nc')\n",
    "ncfile_marshflag_73 = os.path.join(workdir,'schout_73_marsh_flag.nc')"
   ]
  },
  {
   "cell_type": "code",
   "execution_count": 3,
   "id": "7e53aa8c",
   "metadata": {},
   "outputs": [
    {
     "name": "stderr",
     "output_type": "stream",
     "text": [
      "/Users/mirandalv/opt/anaconda3/envs/env_pyschism/lib/python3.8/site-packages/pyschism/mesh/parsers/grd.py:192: UserWarning: File /Users/mirandalv/Documents/projects/TMM/schism_test/data/hgrid.gr3 does not contain CRS information and no CRS was given.\n",
      "  warnings.warn(f'File {str(resource)} does not contain CRS '\n"
     ]
    },
    {
     "data": {
      "image/png": "[encoded data removed]",
      "text/plain": [
       "<Figure size 432x288 with 2 Axes>"
      ]
     },
     "metadata": {
      "needs_background": "light"
     },
     "output_type": "display_data"
    },
    {
     "data": {
      "text/plain": [
       "dict_keys(['description', 'nodes', 'elements', 'crs', 'boundaries'])"
      ]
     },
     "execution_count": 3,
     "metadata": {},
     "output_type": "execute_result"
    }
   ],
   "source": [
    "# Get the hgrid info\n",
    "\n",
    "hgrid = Hgrid.open(hgrid3_file)\n",
    "hgrid.make_plot(show=True)\n",
    "\n",
    "#hgrid.write(os.path.join(workdir, 'output/file.2dm'), format='2dm')\n",
    "\n",
    "hgrid_dict = hgrid.to_dict()\n",
    "hgrid_dict.keys()\n",
    "\n",
    "# elements: connectivity table: element #, element type (triangle or quad), nodes 1-4\n",
    "# nodes: node id, x, y, depth\n",
    "# boundaries: page 60 for details: http://ccrm.vims.edu/schismweb/SCHISM_v5.9-Manual.pdf"
   ]
  },
  {
   "cell_type": "code",
   "execution_count": null,
   "id": "cb6533a8",
   "metadata": {},
   "outputs": [],
   "source": [
    "hgrid_dict['nodes'] # the length of nodes is similar to the marsh_flag variable array in the .nc file\n",
    "hgrid_dict['elements']\n",
    "hgrid_dict['crs']\n",
    "hgrid_dict['boundaries']"
   ]
  },
  {
   "cell_type": "code",
   "execution_count": null,
   "id": "64bf8a8d",
   "metadata": {},
   "outputs": [],
   "source": [
    "# Read the output .nc files at two different time stamps\n",
    "# These two files will be used to retrieve the marsh changes over time\n",
    "\n",
    "ds_marshflag_1 = nc.Dataset(ncfile_marshflag_1)\n",
    "ds_marshflag_73 = nc.Dataset(ncfile_marshflag_73)\n",
    "\n",
    "\n",
    "# Get the marsh array\n",
    "\n",
    "before_marsh = ds_marshflag_1.variables['marsh_flag'][:].data[0]\n",
    "after_marsh = ds_marshflag_73.variables['marsh_flag'][:].data[0]"
   ]
  },
  {
   "cell_type": "code",
   "execution_count": null,
   "id": "868f3b27",
   "metadata": {
    "scrolled": true
   },
   "outputs": [],
   "source": [
    "ds_marshflag_1"
   ]
  },
  {
   "cell_type": "code",
   "execution_count": null,
   "id": "d87c6e93",
   "metadata": {},
   "outputs": [],
   "source": [
    "def get_marsh_change(x):\n",
    "    \n",
    "    if x['marsh_before'] > x['marsh_after']:\n",
    "        return 'loss'\n",
    "    elif x['marsh_before'] < x['marsh_after']:\n",
    "        return 'gain'\n",
    "    else:\n",
    "        return 'no_change'\n",
    "\n",
    "\n",
    "def retrieve_point(x, nodes):\n",
    "    \n",
    "    \"\"\"\n",
    "    This function can be used to convert a list of points (x,y) to connectivity vectors (lon, lat),\n",
    "    But since the input .nc file is large, and the operation of converting to different crs takes longer time, \n",
    "    the crs convertion is not implemented. Keep this function for further usage.\n",
    "    \n",
    "    x: a data frame of merged output (with marsh changes)\n",
    "    nodes: a dictionary saves all the nodes (x, y) from the .nc file\n",
    "    \n",
    "    y: ndarray\n",
    "    \"\"\"\n",
    "    \n",
    "    assert isinstance(nodes, dict)\n",
    "    \n",
    "    x1, y1 = to_latlon(nodes[str(x['node1'])][0])\n",
    "    x2, y2 = to_latlon(nodes[str(x['node2'])][0])\n",
    "    x3, y3 = to_latlon(nodes[str(x['node3'])][0])\n",
    "    \n",
    "    y = np.concatenate(([[x1, y1]],[[x2, y2]],[[x3, y3]]), axis=0)\n",
    "    \n",
    "    poly = Polygon(y)\n",
    "\n",
    "    return poly\n",
    "\n",
    "\n",
    "def point_to_poly(x):\n",
    "    \n",
    "    assert isinstance(x, (list,tuple,np.ndarray))\n",
    "    \n",
    "    poly = Polygon(x)\n",
    "    \n",
    "    return poly\n",
    "\n",
    "\n",
    "def get_geom(x, nodes):\n",
    "    \n",
    "    \"\"\"\n",
    "    Read a list of numpy array from the hgrid['element'], retrieving the x,y of the corresponding nodes, and converting\n",
    "    the nodes into geospatial polygons.\n",
    "    \n",
    "    x: a data frame of merged output (with marsh changes)\n",
    "    nodes: a dictionary saves all the nodes (x, y) from the .nc file\n",
    "    \n",
    "    y: ndarray\n",
    "    \"\"\"\n",
    "    \n",
    "    assert isinstance(nodes, dict)\n",
    "    \n",
    "    x1, y1 = nodes[str(x['node1'])][0]\n",
    "    x2, y2 = nodes[str(x['node2'])][0]\n",
    "    x3, y3 = nodes[str(x['node3'])][0]\n",
    "    \n",
    "    y = np.concatenate(([[x1,y1]],[[x2,y2]],[[x3,y3]]), axis=0)\n",
    "    \n",
    "    poly = Polygon(y)\n",
    "\n",
    "    return poly\n",
    "\n",
    "\n",
    "# chesapeake bay utm zone 18s, espg: 32718 (double check where to read the correct crs of this .nc file)\n",
    "\n",
    "def to_latlon(geom):\n",
    "    \n",
    "    \"\"\"\n",
    "    Convert a geometry point to WGS84\n",
    "    \"\"\"\n",
    "    \n",
    "    assert isinstance(geom, (list,tuple,np.ndarray))\n",
    "    \n",
    "    transformer = Transformer.from_crs(\"epsg:32718\", \"epsg:4326\")\n",
    "    \n",
    "    x,y = transformer.transform(geom[0], geom[1])\n",
    "    \n",
    "    return x,y\n",
    "\n",
    "\n"
   ]
  },
  {
   "cell_type": "code",
   "execution_count": null,
   "id": "d326744a",
   "metadata": {},
   "outputs": [],
   "source": [
    "# convert the nodes to a geodataframe\n",
    "df_nodes = pd.DataFrame.from_dict(hgrid_dict['nodes'], orient='index', columns=['geom', 'depth'])\n",
    "df_ele = pd.DataFrame.from_dict(hgrid_dict['elements'], orient='index', columns=['node1', 'node2', 'node3'])\n",
    "\n",
    "# add index to the output list (before)\n",
    "df_before = pd.DataFrame(before_marsh, columns=['marsh_before'])\n",
    "df_before['row_num'] = (np.arange(len(df_before)) + 1).astype(str)\n",
    "df_before = df_before.set_index('row_num')\n",
    "\n",
    "# add index to the output list (after)\n",
    "df_after = pd.DataFrame(after_marsh, columns=['marsh_after'])\n",
    "df_after['row_num'] = (np.arange(len(df_after)) + 1).astype(str)\n",
    "df_after = df_after.set_index('row_num')\n",
    "\n",
    "\n",
    "# merge the output with the connectivity table by index\n",
    "df = pd.merge(df_ele, df_before, left_index=True, right_index=True)\n",
    "df = pd.merge(df, df_after, left_index=True, right_index=True)\n",
    "\n",
    "\n",
    "# Create a new column \"marsh_change\" indicating the change of marshes at two time stamps\n",
    "df['marsh_change'] = df.apply(lambda x: get_marsh_change(x), axis=1)\n",
    "\n",
    "# Retrieve the geometry of the hgrid['elements'] (connectivity table)\n",
    "df['geom'] = df.apply(lambda x: get_geom(x, hgrid_dict['nodes']), axis=1)\n",
    "\n",
    "# Creating a geodataframe\n",
    "gdf = gpd.GeoDataFrame(df, geometry='geom')"
   ]
  },
  {
   "cell_type": "code",
   "execution_count": null,
   "id": "719d1762",
   "metadata": {},
   "outputs": [],
   "source": [
    "gdf = gdf.set_crs('epsg:26918')"
   ]
  },
  {
   "cell_type": "code",
   "execution_count": null,
   "id": "19988d7d",
   "metadata": {},
   "outputs": [],
   "source": [
    "gdf.crs"
   ]
  },
  {
   "cell_type": "code",
   "execution_count": null,
   "id": "c588af66",
   "metadata": {},
   "outputs": [],
   "source": [
    "gdf.to_file('test_output.geojson', driver='GeoJSON')"
   ]
  },
  {
   "cell_type": "code",
   "execution_count": null,
   "id": "dcebf9c7",
   "metadata": {},
   "outputs": [],
   "source": [
    "# testing\n",
    "\n",
    "a = hgrid_dict['nodes']['1'][0]\n",
    "b = hgrid_dict['nodes']['2'][0]\n",
    "c = hgrid_dict['nodes']['3'][0]\n",
    "\n",
    "y = np.concatenate(([a],[b],[c]), axis=0)\n",
    "\n",
    "poly = point_to_poly(y)\n"
   ]
  },
  {
   "cell_type": "code",
   "execution_count": null,
   "id": "0d191eae",
   "metadata": {},
   "outputs": [],
   "source": [
    "poly"
   ]
  },
  {
   "cell_type": "code",
   "execution_count": null,
   "id": "23d72f47",
   "metadata": {},
   "outputs": [],
   "source": [
    "# Understand the data\n",
    "\n",
    "# get the distribution of time step 1 marsh_flags\n",
    "\n",
    "n, bins, patches = plt.hist(ds_marshflag_1.variables['marsh_flag'][:].data[0])\n",
    "plt.show()\n"
   ]
  },
  {
   "cell_type": "code",
   "execution_count": null,
   "id": "882ec382",
   "metadata": {},
   "outputs": [],
   "source": [
    "# get the distribution of time step 1 marsh_flags\n",
    "\n",
    "\n",
    "n, bins, patches = plt.hist(ds_marshflag_73.variables['marsh_flag'][:].data[0])\n",
    "plt.show()"
   ]
  },
  {
   "cell_type": "code",
   "execution_count": null,
   "id": "f123b838",
   "metadata": {},
   "outputs": [],
   "source": [
    "np.count_nonzero(ds_marshflag_1.variables['marsh_flag'][:].data[0]==1)"
   ]
  },
  {
   "cell_type": "code",
   "execution_count": null,
   "id": "fcf07f53",
   "metadata": {},
   "outputs": [],
   "source": [
    "np.count_nonzero(ds_marshflag_73.variables['marsh_flag'][:].data[0]==1)"
   ]
  },
  {
   "cell_type": "code",
   "execution_count": null,
   "id": "0f87a4a4",
   "metadata": {},
   "outputs": [],
   "source": [
    "# Accessing sediment\n",
    "\n",
    "np.count_nonzero(ds_marshflag_1.variables['SED_TSC'][:].data[0]!=0)"
   ]
  },
  {
   "cell_type": "code",
   "execution_count": null,
   "id": "d3cb3a7d",
   "metadata": {},
   "outputs": [],
   "source": [
    "np. where(ds_marshflag_1.variables['SED_TSC'][:].data[0]!=0)"
   ]
  },
  {
   "cell_type": "code",
   "execution_count": null,
   "id": "bd0eefdb",
   "metadata": {},
   "outputs": [],
   "source": [
    "ds_1 = nc.Dataset(os.path.join(workdir, \"output_test/schout_1.nc\"))\n",
    "ds_73 = nc.Dataset(os.path.join(workdir, \"output_test/schout_73.nc\"))\n",
    "ds_61 = nc.Dataset(os.path.join(workdir, \"output_test/schout_61.nc\"))"
   ]
  },
  {
   "cell_type": "code",
   "execution_count": null,
   "id": "153137c9",
   "metadata": {},
   "outputs": [],
   "source": [
    "ds_1.variables.keys()"
   ]
  },
  {
   "cell_type": "code",
   "execution_count": null,
   "id": "71adfc7d",
   "metadata": {},
   "outputs": [],
   "source": [
    "ds_1.variables['marsh_flag'][:].shape"
   ]
  },
  {
   "cell_type": "code",
   "execution_count": null,
   "id": "8c2c361e",
   "metadata": {},
   "outputs": [],
   "source": [
    "ds_1.variables['coordinate_system_flag'][0]"
   ]
  },
  {
   "cell_type": "code",
   "execution_count": null,
   "id": "67610b92",
   "metadata": {},
   "outputs": [],
   "source": []
  },
  {
   "cell_type": "code",
   "execution_count": null,
   "id": "61a8bc95",
   "metadata": {},
   "outputs": [],
   "source": []
  },
  {
   "cell_type": "code",
   "execution_count": null,
   "id": "1737fcb6",
   "metadata": {},
   "outputs": [],
   "source": []
  }
 ],
 "metadata": {
  "kernelspec": {
   "display_name": "Python 3 (ipykernel)",
   "language": "python",
   "name": "python3"
  },
  "language_info": {
   "codemirror_mode": {
    "name": "ipython",
    "version": 3
   },
   "file_extension": ".py",
   "mimetype": "text/x-python",
   "name": "python",
   "nbconvert_exporter": "python",
   "pygments_lexer": "ipython3",
   "version": "3.8.12"
  }
 },
 "nbformat": 4,
 "nbformat_minor": 5
}
