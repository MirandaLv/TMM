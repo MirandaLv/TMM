{
 "cells": [
  {
   "cell_type": "code",
   "execution_count": 1,
   "id": "77e59f62",
   "metadata": {},
   "outputs": [],
   "source": [
    "# Import all libraries\n",
    "\n",
    "import netCDF4 as nc\n",
    "import os\n",
    "from netCDF4 import Dataset\n",
    "import numpy as np\n",
    "from pyschism.mesh import Hgrid\n",
    "import geopandas as gpd\n",
    "import pandas as pd\n",
    "import matplotlib.pyplot as plt\n",
    "from pyproj import Transformer\n",
    "from shapely.geometry import Polygon"
   ]
  },
  {
   "cell_type": "code",
   "execution_count": 2,
   "id": "6a5b1c26",
   "metadata": {},
   "outputs": [],
   "source": [
    "# set the working directory\n",
    "os.getcwd()\n",
    "os.chdir('..')\n",
    "workdir = os.getcwd()\n",
    "\n",
    "# read the hgrid file\n",
    "hgrid3_file = os.path.join(workdir, 'data/hgrid.gr3')\n",
    "# hgridll_file = os.path.join(workdir, 'data/hgrid.ll')\n",
    "# hgridwwm_file = os.path.join(workdir, 'data/hgrid_WWM.gr3')\n",
    "\n",
    "# Read the nc files from different time (double check if the number here means different time step)\n",
    "ncfile_marshflag_1 = os.path.join(workdir,'schout_1_marsh_flag.nc')\n",
    "ncfile_marshflag_73 = os.path.join(workdir,'schout_73_marsh_flag.nc')"
   ]
  },
  {
   "cell_type": "code",
   "execution_count": 3,
   "id": "7e53aa8c",
   "metadata": {},
   "outputs": [
    {
     "name": "stderr",
     "output_type": "stream",
     "text": [
      "/Users/mirandalv/opt/anaconda3/envs/env_pyschism/lib/python3.8/site-packages/pyschism/mesh/parsers/grd.py:192: UserWarning: File /Users/mirandalv/Documents/projects/TMM/schism_test/data/hgrid.gr3 does not contain CRS information and no CRS was given.\n",
      "  warnings.warn(f'File {str(resource)} does not contain CRS '\n"
     ]
    },
    {
     "data": {
      "image/png": "[encoded data removed]",
      "text/plain": [
       "<Figure size 432x288 with 2 Axes>"
      ]
     },
     "metadata": {
      "needs_background": "light"
     },
     "output_type": "display_data"
    },
    {
     "data": {
      "text/plain": [
       "dict_keys(['description', 'nodes', 'elements', 'crs', 'boundaries'])"
      ]
     },
     "execution_count": 3,
     "metadata": {},
     "output_type": "execute_result"
    }
   ],
   "source": [
    "# Get the hgrid info\n",
    "\n",
    "hgrid = Hgrid.open(hgrid3_file)\n",
    "hgrid.make_plot(show=True)\n",
    "\n",
    "#hgrid.write(os.path.join(workdir, 'output/file.2dm'), format='2dm')\n",
    "\n",
    "hgrid_dict = hgrid.to_dict()\n",
    "hgrid_dict.keys()\n",
    "\n",
    "# elements: connectivity table: element #, element type (triangle or quad), nodes 1-4\n",
    "# nodes: node id, x, y, depth\n",
    "# boundaries: page 60 for details: http://ccrm.vims.edu/schismweb/SCHISM_v5.9-Manual.pdf"
   ]
  },
  {
   "cell_type": "code",
   "execution_count": null,
   "id": "cb6533a8",
   "metadata": {},
   "outputs": [],
   "source": [
    "hgrid_dict['nodes'] # the length of nodes is similar to the marsh_flag variable array in the .nc file\n",
    "hgrid_dict['elements']\n",
    "hgrid_dict['crs']\n",
    "hgrid_dict['boundaries']"
   ]
  },
  {
   "cell_type": "code",
   "execution_count": 4,
   "id": "64bf8a8d",
   "metadata": {},
   "outputs": [],
   "source": [
    "# Read the output .nc files at two different time stamps\n",
    "# These two files will be used to retrieve the marsh changes over time\n",
    "\n",
    "ds_marshflag_1 = nc.Dataset(ncfile_marshflag_1)\n",
    "ds_marshflag_73 = nc.Dataset(ncfile_marshflag_73)\n",
    "\n",
    "\n",
    "# Get the marsh array\n",
    "\n",
    "before_marsh = ds_marshflag_1.variables['marsh_flag'][:].data[0]\n",
    "after_marsh = ds_marshflag_73.variables['marsh_flag'][:].data[0]"
   ]
  },
  {
   "cell_type": "code",
   "execution_count": 5,
   "id": "868f3b27",
   "metadata": {
    "scrolled": true
   },
   "outputs": [
    {
     "data": {
      "text/plain": [
       "<class 'netCDF4._netCDF4.Dataset'>\n",
       "root group (NETCDF4_CLASSIC data model, file format HDF5):\n",
       "    Conventions: CF-1.0, UGRID-1.0\n",
       "    title: SCHISM Model output\n",
       "    institution: SCHISM Model output\n",
       "    source: SCHISM model output version v10\n",
       "    references: http://ccrm.vims.edu/schismweb/\n",
       "    history: Thu Dec  2 15:36:09 2021: ncks -d time,0,0 /Users/mirandalv/Documents/projects/TMM/schism_test/output_test/schout_1.nc schout_1_marsh_flag.nc\n",
       "created by combine_output11\n",
       "    comment: SCHISM Model output\n",
       "    type: SCHISM Model output\n",
       "    VisIT_plugin: https://schism.water.ca.gov/library/-/document_library/view/3476283\n",
       "    NCO: netCDF Operators version 5.0.3 (Homepage = http://nco.sf.net, Code = http://github.com/nco/nco)\n",
       "    dimensions(sizes): sigma(2), one(1), nSCHISM_hgrid_edge(558734), two(2), nSCHISM_hgrid_face(370170), nMaxSCHISM_hgrid_face_nodes(4), nSCHISM_hgrid_node(188546), time(1), nSCHISM_vgrid_layers(2)\n",
       "    variables(dimensions): float32 Cs(sigma), int32 SCHISM_hgrid(one), int32 SCHISM_hgrid_edge_nodes(nSCHISM_hgrid_edge, two), float32 SCHISM_hgrid_edge_x(nSCHISM_hgrid_edge), float32 SCHISM_hgrid_edge_y(nSCHISM_hgrid_edge), int32 SCHISM_hgrid_face_nodes(nSCHISM_hgrid_face, nMaxSCHISM_hgrid_face_nodes), float32 SCHISM_hgrid_face_x(nSCHISM_hgrid_face), float32 SCHISM_hgrid_face_y(nSCHISM_hgrid_face), float32 SCHISM_hgrid_node_x(nSCHISM_hgrid_node), float32 SCHISM_hgrid_node_y(nSCHISM_hgrid_node), float32 SED3D_1(time, nSCHISM_hgrid_node, nSCHISM_vgrid_layers), float32 SED3D_2(time, nSCHISM_hgrid_node, nSCHISM_vgrid_layers), float32 SED3D_3(time, nSCHISM_hgrid_node, nSCHISM_vgrid_layers), float32 SED3D_4(time, nSCHISM_hgrid_node, nSCHISM_vgrid_layers), float32 SED_D50(time, nSCHISM_hgrid_node), float32 SED_TSC(time, nSCHISM_hgrid_node, nSCHISM_vgrid_layers), float32 SED_bed_stress(time, nSCHISM_hgrid_node), float32 SED_depth_change(time, nSCHISM_hgrid_node), float32 WWM_1(time, nSCHISM_hgrid_node), float32 WWM_11(time, nSCHISM_hgrid_node), float32 WWM_18(time, nSCHISM_hgrid_node), int32 coordinate_system_flag(one), float32 dahv(time, nSCHISM_hgrid_node, two), float32 depth(nSCHISM_hgrid_node), int32 dry_value_flag(one), int32 edge_bottom_index(nSCHISM_hgrid_edge), int32 ele_bottom_index(nSCHISM_hgrid_face), float32 elev(time, nSCHISM_hgrid_node), float32 marsh_flag(time, nSCHISM_hgrid_face), float32 minimum_depth(one), int32 node_bottom_index(nSCHISM_hgrid_node), float32 sigma(sigma), float32 sigma_h_c(one), float32 sigma_maxdepth(one), float32 sigma_theta_b(one), float32 sigma_theta_f(one), float64 time(time), float32 wetdry_elem(time, nSCHISM_hgrid_face), float32 zcor(time, nSCHISM_hgrid_node, nSCHISM_vgrid_layers)\n",
       "    groups: "
      ]
     },
     "execution_count": 5,
     "metadata": {},
     "output_type": "execute_result"
    }
   ],
   "source": [
    "ds_marshflag_1"
   ]
  },
  {
   "cell_type": "code",
   "execution_count": 14,
   "id": "d87c6e93",
   "metadata": {},
   "outputs": [],
   "source": [
    "def get_marsh_change(x):\n",
    "    \n",
    "    if x['marsh_before'] > x['marsh_after']:\n",
    "        return 'loss'\n",
    "    elif x['marsh_before'] < x['marsh_after']:\n",
    "        return 'gain'\n",
    "    else:\n",
    "        return 'no_change'\n",
    "\n",
    "\n",
    "def retrieve_point(x, nodes):\n",
    "    \n",
    "    \"\"\"\n",
    "    This function can be used to convert a list of points (x,y) to connectivity vectors (lon, lat),\n",
    "    But since the input .nc file is large, and the operation of converting to different crs takes longer time, \n",
    "    the crs convertion is not implemented. Keep this function for further usage.\n",
    "    \n",
    "    x: a data frame of merged output (with marsh changes)\n",
    "    nodes: a dictionary saves all the nodes (x, y) from the .nc file\n",
    "    \n",
    "    y: ndarray\n",
    "    \"\"\"\n",
    "    \n",
    "    assert isinstance(nodes, dict)\n",
    "    \n",
    "    x1, y1 = to_latlon(nodes[str(x['node1'])][0])\n",
    "    x2, y2 = to_latlon(nodes[str(x['node2'])][0])\n",
    "    x3, y3 = to_latlon(nodes[str(x['node3'])][0])\n",
    "    \n",
    "    y = np.concatenate(([[x1, y1]],[[x2, y2]],[[x3, y3]]), axis=0)\n",
    "    \n",
    "    poly = Polygon(y)\n",
    "\n",
    "    return poly\n",
    "\n",
    "\n",
    "def point_to_poly(x):\n",
    "    \n",
    "    assert isinstance(x, (list,tuple,np.ndarray))\n",
    "    \n",
    "    poly = Polygon(x)\n",
    "    \n",
    "    return poly\n",
    "\n",
    "\n",
    "def get_geom(x, nodes):\n",
    "    \n",
    "    \"\"\"\n",
    "    Read a list of numpy array from the hgrid['element'], retrieving the x,y of the corresponding nodes, and converting\n",
    "    the nodes into geospatial polygons.\n",
    "    \n",
    "    x: a data frame of merged output (with marsh changes)\n",
    "    nodes: a dictionary saves all the nodes (x, y) from the .nc file\n",
    "    \n",
    "    y: ndarray\n",
    "    \"\"\"\n",
    "    \n",
    "    assert isinstance(nodes, dict)\n",
    "    \n",
    "    x1, y1 = nodes[str(x['node1'])][0]\n",
    "    x2, y2 = nodes[str(x['node2'])][0]\n",
    "    x3, y3 = nodes[str(x['node3'])][0]\n",
    "    \n",
    "    y = np.concatenate(([[x1,y1]],[[x2,y2]],[[x3,y3]]), axis=0)\n",
    "    \n",
    "    poly = Polygon(y)\n",
    "\n",
    "    return poly\n",
    "\n",
    "\n",
    "# chesapeake bay utm zone 18s, espg: 32718 (double check where to read the correct crs of this .nc file)\n",
    "\n",
    "def to_latlon(geom):\n",
    "    \n",
    "    \"\"\"\n",
    "    Convert a geometry point to WGS84\n",
    "    \"\"\"\n",
    "    \n",
    "    assert isinstance(geom, (list,tuple,np.ndarray))\n",
    "    \n",
    "    transformer = Transformer.from_crs(\"epsg:32718\", \"epsg:4326\")\n",
    "    \n",
    "    x,y = transformer.transform(geom[0], geom[1])\n",
    "    \n",
    "    return x,y\n",
    "\n",
    "\n"
   ]
  },
  {
   "cell_type": "code",
   "execution_count": 7,
   "id": "d326744a",
   "metadata": {},
   "outputs": [],
   "source": [
    "# convert the nodes to a geodataframe\n",
    "df_nodes = pd.DataFrame.from_dict(hgrid_dict['nodes'], orient='index', columns=['geom', 'depth'])\n",
    "df_ele = pd.DataFrame.from_dict(hgrid_dict['elements'], orient='index', columns=['node1', 'node2', 'node3'])\n",
    "\n",
    "# add index to the output list (before)\n",
    "df_before = pd.DataFrame(before_marsh, columns=['marsh_before'])\n",
    "df_before['row_num'] = (np.arange(len(df_before)) + 1).astype(str)\n",
    "df_before = df_before.set_index('row_num')\n",
    "\n",
    "# add index to the output list (after)\n",
    "df_after = pd.DataFrame(after_marsh, columns=['marsh_after'])\n",
    "df_after['row_num'] = (np.arange(len(df_after)) + 1).astype(str)\n",
    "df_after = df_after.set_index('row_num')\n",
    "\n",
    "\n",
    "# merge the output with the connectivity table by index\n",
    "df = pd.merge(df_ele, df_before, left_index=True, right_index=True)\n",
    "df = pd.merge(df, df_after, left_index=True, right_index=True)\n",
    "\n",
    "\n",
    "# Create a new column \"marsh_change\" indicating the change of marshes at two time stamps\n",
    "df['marsh_change'] = df.apply(lambda x: get_marsh_change(x), axis=1)\n",
    "\n",
    "# Retrieve the geometry of the hgrid['elements'] (connectivity table)\n",
    "df['geom'] = df.apply(lambda x: get_geom(x, hgrid_dict['nodes']), axis=1)\n",
    "\n",
    "# Creating a geodataframe\n",
    "gdf = gpd.GeoDataFrame(df, geometry='geom')"
   ]
  },
  {
   "cell_type": "code",
   "execution_count": null,
   "id": "719d1762",
   "metadata": {},
   "outputs": [],
   "source": [
    "gdf.to_file('test_output.geojson', driver='GeoJSON')"
   ]
  },
  {
   "cell_type": "code",
   "execution_count": null,
   "id": "19988d7d",
   "metadata": {},
   "outputs": [],
   "source": []
  },
  {
   "cell_type": "code",
   "execution_count": null,
   "id": "c588af66",
   "metadata": {},
   "outputs": [],
   "source": []
  },
  {
   "cell_type": "code",
   "execution_count": 15,
   "id": "dcebf9c7",
   "metadata": {},
   "outputs": [],
   "source": [
    "# testing\n",
    "\n",
    "a = hgrid_dict['nodes']['1'][0]\n",
    "b = hgrid_dict['nodes']['2'][0]\n",
    "c = hgrid_dict['nodes']['3'][0]\n",
    "\n",
    "y = np.concatenate(([a],[b],[c]), axis=0)\n",
    "\n",
    "poly = point_to_poly(y)\n"
   ]
  },
  {
   "cell_type": "code",
   "execution_count": 16,
   "id": "0d191eae",
   "metadata": {},
   "outputs": [
    {
     "data": {
      "image/svg+xml": [
       "<svg xmlns=\"http://www.w3.org/2000/svg\" xmlns:xlink=\"http://www.w3.org/1999/xlink\" width=\"217.251200000057\" height=\"254.9232000000775\" viewBox=\"328002.31639999995 4156310.1384 217.251200000057 254.9232000000775\" preserveAspectRatio=\"xMinYMin meet\"><g transform=\"matrix(1,0,0,-1,0,8312875.2)\"><path fill-rule=\"evenodd\" fill=\"#66cc99\" stroke=\"#555555\" stroke-width=\"2.0\" opacity=\"0.6\" d=\"M 328131.297,4156319.58 L 328210.126,4156555.62 L 328011.758,4156349.18 L 328131.297,4156319.58 z\" /></g></svg>"
      ],
      "text/plain": [
       "<shapely.geometry.polygon.Polygon at 0x7fe8cddb2c10>"
      ]
     },
     "execution_count": 16,
     "metadata": {},
     "output_type": "execute_result"
    }
   ],
   "source": [
    "poly"
   ]
  },
  {
   "cell_type": "code",
   "execution_count": 17,
   "id": "23d72f47",
   "metadata": {},
   "outputs": [
    {
     "data": {
      "image/png": "[encoded data removed]",
      "text/plain": [
       "<Figure size 432x288 with 1 Axes>"
      ]
     },
     "metadata": {
      "needs_background": "light"
     },
     "output_type": "display_data"
    }
   ],
   "source": [
    "# Understand the data\n",
    "\n",
    "# get the distribution of time step 1 marsh_flags\n",
    "\n",
    "n, bins, patches = plt.hist(ds_marshflag_1.variables['marsh_flag'][:].data[0])\n",
    "plt.show()\n"
   ]
  },
  {
   "cell_type": "code",
   "execution_count": 18,
   "id": "882ec382",
   "metadata": {},
   "outputs": [
    {
     "data": {
      "image/png": "[encoded data removed]",
      "text/plain": [
       "<Figure size 432x288 with 1 Axes>"
      ]
     },
     "metadata": {
      "needs_background": "light"
     },
     "output_type": "display_data"
    }
   ],
   "source": [
    "# get the distribution of time step 1 marsh_flags\n",
    "\n",
    "\n",
    "n, bins, patches = plt.hist(ds_marshflag_73.variables['marsh_flag'][:].data[0])\n",
    "plt.show()"
   ]
  },
  {
   "cell_type": "code",
   "execution_count": 19,
   "id": "f123b838",
   "metadata": {},
   "outputs": [
    {
     "data": {
      "text/plain": [
       "150432"
      ]
     },
     "execution_count": 19,
     "metadata": {},
     "output_type": "execute_result"
    }
   ],
   "source": [
    "np.count_nonzero(ds_marshflag_1.variables['marsh_flag'][:].data[0]==1)"
   ]
  },
  {
   "cell_type": "code",
   "execution_count": 20,
   "id": "fcf07f53",
   "metadata": {},
   "outputs": [
    {
     "data": {
      "text/plain": [
       "152528"
      ]
     },
     "execution_count": 20,
     "metadata": {},
     "output_type": "execute_result"
    }
   ],
   "source": [
    "np.count_nonzero(ds_marshflag_73.variables['marsh_flag'][:].data[0]==1)"
   ]
  },
  {
   "cell_type": "code",
   "execution_count": 21,
   "id": "0f87a4a4",
   "metadata": {},
   "outputs": [
    {
     "data": {
      "text/plain": [
       "70764"
      ]
     },
     "execution_count": 21,
     "metadata": {},
     "output_type": "execute_result"
    }
   ],
   "source": [
    "# Accessing sediment\n",
    "\n",
    "np.count_nonzero(ds_marshflag_1.variables['SED_TSC'][:].data[0]!=0)"
   ]
  },
  {
   "cell_type": "code",
   "execution_count": 22,
   "id": "d3cb3a7d",
   "metadata": {},
   "outputs": [
    {
     "data": {
      "text/plain": [
       "(array([   157,    157,    158, ..., 173932, 173933, 173933]),\n",
       " array([0, 1, 0, ..., 1, 0, 1]))"
      ]
     },
     "execution_count": 22,
     "metadata": {},
     "output_type": "execute_result"
    }
   ],
   "source": [
    "np. where(ds_marshflag_1.variables['SED_TSC'][:].data[0]!=0)"
   ]
  },
  {
   "cell_type": "code",
   "execution_count": 23,
   "id": "bd0eefdb",
   "metadata": {},
   "outputs": [],
   "source": [
    "ds_1 = nc.Dataset(os.path.join(workdir, \"output_test/schout_1.nc\"))\n",
    "ds_73 = nc.Dataset(os.path.join(workdir, \"output_test/schout_73.nc\"))\n",
    "ds_61 = nc.Dataset(os.path.join(workdir, \"output_test/schout_61.nc\"))"
   ]
  },
  {
   "cell_type": "code",
   "execution_count": 24,
   "id": "153137c9",
   "metadata": {},
   "outputs": [
    {
     "data": {
      "text/plain": [
       "dict_keys(['time', 'SCHISM_hgrid', 'SCHISM_hgrid_face_nodes', 'SCHISM_hgrid_edge_nodes', 'SCHISM_hgrid_node_x', 'SCHISM_hgrid_node_y', 'node_bottom_index', 'SCHISM_hgrid_face_x', 'SCHISM_hgrid_face_y', 'ele_bottom_index', 'SCHISM_hgrid_edge_x', 'SCHISM_hgrid_edge_y', 'edge_bottom_index', 'depth', 'sigma', 'dry_value_flag', 'coordinate_system_flag', 'minimum_depth', 'sigma_h_c', 'sigma_theta_b', 'sigma_theta_f', 'sigma_maxdepth', 'Cs', 'wetdry_elem', 'zcor', 'elev', 'dahv', 'SED_depth_change', 'SED_D50', 'SED_bed_stress', 'SED_TSC', 'SED3D_1', 'SED3D_2', 'SED3D_3', 'SED3D_4', 'WWM_1', 'WWM_11', 'WWM_18', 'marsh_flag'])"
      ]
     },
     "execution_count": 24,
     "metadata": {},
     "output_type": "execute_result"
    }
   ],
   "source": [
    "ds_1.variables.keys()"
   ]
  },
  {
   "cell_type": "code",
   "execution_count": 25,
   "id": "71adfc7d",
   "metadata": {},
   "outputs": [
    {
     "data": {
      "text/plain": [
       "(5, 370170)"
      ]
     },
     "execution_count": 25,
     "metadata": {},
     "output_type": "execute_result"
    }
   ],
   "source": [
    "ds_1.variables['marsh_flag'][:].shape"
   ]
  },
  {
   "cell_type": "code",
   "execution_count": 26,
   "id": "8c2c361e",
   "metadata": {},
   "outputs": [
    {
     "data": {
      "text/plain": [
       "<class 'netCDF4._netCDF4.Dataset'>\n",
       "root group (NETCDF4_CLASSIC data model, file format HDF5):\n",
       "    Conventions: CF-1.0, UGRID-1.0\n",
       "    title: SCHISM Model output\n",
       "    institution: SCHISM Model output\n",
       "    source: SCHISM model output version v10\n",
       "    references: http://ccrm.vims.edu/schismweb/\n",
       "    history: created by combine_output11\n",
       "    comment: SCHISM Model output\n",
       "    type: SCHISM Model output\n",
       "    VisIT_plugin: https://schism.water.ca.gov/library/-/document_library/view/3476283\n",
       "    dimensions(sizes): nSCHISM_hgrid_node(188546), nSCHISM_hgrid_face(370170), nSCHISM_hgrid_edge(558734), nMaxSCHISM_hgrid_face_nodes(4), nSCHISM_vgrid_layers(2), one(1), two(2), sigma(2), time(5)\n",
       "    variables(dimensions): float64 time(time), int32 SCHISM_hgrid(one), int32 SCHISM_hgrid_face_nodes(nSCHISM_hgrid_face, nMaxSCHISM_hgrid_face_nodes), int32 SCHISM_hgrid_edge_nodes(nSCHISM_hgrid_edge, two), float32 SCHISM_hgrid_node_x(nSCHISM_hgrid_node), float32 SCHISM_hgrid_node_y(nSCHISM_hgrid_node), int32 node_bottom_index(nSCHISM_hgrid_node), float32 SCHISM_hgrid_face_x(nSCHISM_hgrid_face), float32 SCHISM_hgrid_face_y(nSCHISM_hgrid_face), int32 ele_bottom_index(nSCHISM_hgrid_face), float32 SCHISM_hgrid_edge_x(nSCHISM_hgrid_edge), float32 SCHISM_hgrid_edge_y(nSCHISM_hgrid_edge), int32 edge_bottom_index(nSCHISM_hgrid_edge), float32 depth(nSCHISM_hgrid_node), float32 sigma(sigma), int32 dry_value_flag(one), int32 coordinate_system_flag(one), float32 minimum_depth(one), float32 sigma_h_c(one), float32 sigma_theta_b(one), float32 sigma_theta_f(one), float32 sigma_maxdepth(one), float32 Cs(sigma), float32 wetdry_elem(time, nSCHISM_hgrid_face), float32 zcor(time, nSCHISM_hgrid_node, nSCHISM_vgrid_layers), float32 elev(time, nSCHISM_hgrid_node), float32 dahv(time, nSCHISM_hgrid_node, two), float32 SED_depth_change(time, nSCHISM_hgrid_node), float32 SED_D50(time, nSCHISM_hgrid_node), float32 SED_bed_stress(time, nSCHISM_hgrid_node), float32 SED_TSC(time, nSCHISM_hgrid_node, nSCHISM_vgrid_layers), float32 SED3D_1(time, nSCHISM_hgrid_node, nSCHISM_vgrid_layers), float32 SED3D_2(time, nSCHISM_hgrid_node, nSCHISM_vgrid_layers), float32 SED3D_3(time, nSCHISM_hgrid_node, nSCHISM_vgrid_layers), float32 SED3D_4(time, nSCHISM_hgrid_node, nSCHISM_vgrid_layers), float32 WWM_1(time, nSCHISM_hgrid_node), float32 WWM_11(time, nSCHISM_hgrid_node), float32 WWM_18(time, nSCHISM_hgrid_node), float32 marsh_flag(time, nSCHISM_hgrid_face)\n",
       "    groups: "
      ]
     },
     "execution_count": 26,
     "metadata": {},
     "output_type": "execute_result"
    }
   ],
   "source": [
    "ds_61"
   ]
  },
  {
   "cell_type": "code",
   "execution_count": null,
   "id": "67610b92",
   "metadata": {},
   "outputs": [],
   "source": []
  },
  {
   "cell_type": "code",
   "execution_count": null,
   "id": "61a8bc95",
   "metadata": {},
   "outputs": [],
   "source": []
  },
  {
   "cell_type": "code",
   "execution_count": null,
   "id": "1737fcb6",
   "metadata": {},
   "outputs": [],
   "source": []
  }
 ],
 "metadata": {
  "kernelspec": {
   "display_name": "Python 3 (ipykernel)",
   "language": "python",
   "name": "python3"
  },
  "language_info": {
   "codemirror_mode": {
    "name": "ipython",
    "version": 3
   },
   "file_extension": ".py",
   "mimetype": "text/x-python",
   "name": "python",
   "nbconvert_exporter": "python",
   "pygments_lexer": "ipython3",
   "version": "3.8.12"
  }
 },
 "nbformat": 4,
 "nbformat_minor": 5
}
